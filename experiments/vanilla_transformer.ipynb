{
  "nbformat": 4,
  "nbformat_minor": 0,
  "metadata": {
    "colab": {
      "provenance": []
    },
    "kernelspec": {
      "name": "python3",
      "display_name": "Python 3"
    },
    "language_info": {
      "name": "python"
    }
  },
  "cells": [
    {
      "cell_type": "code",
      "execution_count": 29,
      "metadata": {
        "id": "uVtfgqS7EwYy"
      },
      "outputs": [],
      "source": [
        "import numpy as np\n",
        "import torch\n",
        "import torch.nn.functional as F\n",
        "from torch import nn\n",
        "import tqdm\n",
        "import matplotlib "
      ]
    },
    {
      "cell_type": "code",
      "source": [
        "num_stacks = 6\n",
        "d_model = 512"
      ],
      "metadata": {
        "id": "YIShr-qbE2-J"
      },
      "execution_count": 5,
      "outputs": []
    },
    {
      "cell_type": "code",
      "source": [
        "class Encoder(nn.Module):\n",
        "  def __init__(self):\n",
        "    super().__init__()\n",
        "    # Sub Layer 1 -> multi-head self-attention\n",
        "\n",
        "    # Residual connection \n",
        "\n",
        "    # Layer Normalization\n",
        "\n",
        "    # Sub Layer 2 -> fully connected feed-forward network\n",
        "\n",
        "    # Residual connection \n",
        "\n",
        "    # Layer Normalization"
      ],
      "metadata": {
        "id": "0eVDSYson1wv"
      },
      "execution_count": 7,
      "outputs": []
    },
    {
      "cell_type": "code",
      "source": [
        "class Decoder(nn.Module):\n",
        "  def __init__(self):\n",
        "    super().__init__()\n",
        "\n",
        "    # Sub Layer 1 -> masked multi-head attention over the output of the encoder stack\n",
        "    # masked to ensure only looking at previous known outputs\n",
        "\n",
        "    # Residual connection \n",
        "\n",
        "    # Layer Normalization\n",
        "\n",
        "    # Sub Layer 2 -> multi-head self-attention\n",
        "\n",
        "    # Residual connection \n",
        "\n",
        "    # Layer Normalization\n",
        "\n",
        "    # Sub Layer 3 -> fully connected feed-forward network\n",
        "\n",
        "    # Residual connection \n",
        "\n",
        "    # Layer Normalization"
      ],
      "metadata": {
        "id": "uFPRFQldow6-"
      },
      "execution_count": 8,
      "outputs": []
    },
    {
      "cell_type": "markdown",
      "source": [
        "### Attention\n",
        "\n",
        "def attention(query, key, val, model_dim) -> output\n",
        "\n",
        "- Query, keys, values, and output are all vectors.\n",
        "\n",
        "Output\n",
        "- weighted sum of the values\n",
        "- weight assened to each value = compatibility_fn(query, corresponding_key)\n",
        "\n"
      ],
      "metadata": {
        "id": "LLYjpNAapkMu"
      }
    },
    {
      "cell_type": "code",
      "source": [
        "h = 8\n",
        "def multi_head_attention():\n",
        "  pass"
      ],
      "metadata": {
        "id": "G1i98PNOqYoS"
      },
      "execution_count": 11,
      "outputs": []
    },
    {
      "cell_type": "code",
      "source": [
        "class TransformerBlock(nn.Module):\n",
        "  def __init__(self, N=6, h=8, d_model=512, d_ff=2048, p_drop=0.1, eps_ls=0.1):\n",
        "    \"\"\"\n",
        "    N = number of layers\n",
        "    h = number of parallel attention layers (heads)\n",
        "    d_k = dimension of embeddings\n",
        "    d_ff = dimension of feed forwards\n",
        "    p_drop = percentage of dropout\n",
        "    eps_ls = label smoothing value (improves accuracy but hurts perplexity)\n",
        "    \"\"\"\n",
        "    super().__init__()\n",
        "    self.num_heads = h\n",
        "    self.d_model = d_model\n",
        "    self.d_k = d_model // self.num_heads\n",
        "    \n",
        "    self.dropout_num = p_drop\n",
        "    self.ff_1 = nn.Linear(d_model, d_ff)\n",
        "    self.ff_2 = nn.Linear(d_model, d_ff)\n",
        "\n",
        "    \n",
        "\n",
        "    self.dropout = nn.Dropout(p_drop)\n",
        "    self.out = nn.Linear(d_model, d_model)\n",
        "\n",
        "  def attention(self, embed_dim):\n",
        "\n",
        "    # x = q @ v\n",
        "    # x = scale\n",
        "    # x = optional mask\n",
        "    # x = softmax(x)\n",
        "    # return x @ v\n",
        "    # each q,k,v is a linear neural network\n",
        "    # <q,k> tells us how much we want to attend to certain features\n",
        "    # v tells us what to attend to \n",
        "    # like database in which we use a query that helps us find a key which has a corresponding value\n",
        "    # We just want to learn a way to make sure our queries grab the appropriate key.\n",
        "\n",
        "    self.query = nn.Linear(self.d_model, self.d_model)\n",
        "    self.key = nn.Linear(self.d_model, self.d_model)\n",
        "    self.value = nn.Linear(self.d_model, self.d_model)\n",
        "\n",
        "    inner = query @ key.T\n",
        "    inner /= np.sqrt(self.dim_size) # large d_k tends to very small gradients, this helps counteract that\n",
        "    weights = torch.nn.Softmax(inner) # turns into a probability distribution\n",
        "                                      # If our attention score is 0 then we don’t pay attention to those parts\n",
        "    attention = torch.dot(weights,value)\n",
        "\n",
        "    return attention\n",
        "\n",
        "  def forward(self, x):\n",
        "    x = x + self.attn(x).dropout(0.1)\n",
        "    x = x.layernorm().linear(*self.ln1)\n",
        "    x = x + self.act(x.linear(*self.ff1)).linear(*self.ff2).dropout(0.1)\n",
        "    x = x.layernorm().linear(*self.ln2)\n",
        "\n",
        "    return x"
      ],
      "metadata": {
        "id": "mHYIycEgqcT7"
      },
      "execution_count": 13,
      "outputs": []
    },
    {
      "cell_type": "code",
      "source": [
        "class Attention(nn.Module):\n",
        "   def __init__(self, heads, d_model, dropout = 0.1):\n",
        "        super().__init__()\n",
        "\n",
        "        # x = q @ v\n",
        "        # x = scale\n",
        "        # x = optional mask\n",
        "        # x = softmax(x)\n",
        "        # return x @ v\n",
        "        # each q,k,v is a linear neural network\n",
        "        # <q,k> tells us how much we want to attend to certain features\n",
        "        # v tells us what to attend to \n",
        "        # like database in which we use a query that helps us find a key which has a corresponding value\n",
        "        # We just want to learn a way to make sure our queries grab the appropriate key.\n",
        "\n",
        "        self.query = nn.Linear(self.d_model, self.d_model)\n",
        "        self.key = nn.Linear(self.d_model, self.d_model)\n",
        "        self.value = nn.Linear(self.d_model, self.d_model)\n",
        "\n",
        "        inner = query @ key.T\n",
        "        inner /= np.sqrt(self.dim_size) # large d_k tends to very small gradients, this helps counteract that\n",
        "        weights = torch.nn.Softmax(inner) # turns into a probability distribution\n",
        "                                          # If our attention score is 0 then we don’t pay attention to those parts\n",
        "        attention = torch.dot(weights,value)\n",
        "\n",
        "        return attention"
      ],
      "metadata": {
        "id": "s2PmCVDE9ljo"
      },
      "execution_count": null,
      "outputs": []
    },
    {
      "cell_type": "code",
      "source": [
        "class FeedForward(nn.Module):\n",
        "    def __init__(self, d_model, d_ff=2048, dropout = 0.1):\n",
        "        super().__init__() \n",
        "        # We set d_ff as a default to 2048\n",
        "        self.linear_1 = nn.Linear(d_model, d_ff)\n",
        "        self.dropout = nn.Dropout(dropout)\n",
        "        self.linear_2 = nn.Linear(d_ff, d_model)\n",
        "    def forward(self, x):\n",
        "        x = self.dropout(F.relu(self.linear_1(x)))\n",
        "        x = self.linear_2(x)\n",
        "        return x"
      ],
      "metadata": {
        "id": "_p1JVcT69v_c"
      },
      "execution_count": null,
      "outputs": []
    },
    {
      "cell_type": "code",
      "source": [
        "class Embedder(nn.Module):\n",
        "    def __init__(self, vocab_size, d_model):\n",
        "        super().__init__()\n",
        "        self.embed = nn.Embedding(vocab_size, d_model)\n",
        "    def forward(self, x):\n",
        "        return self.embed(x)"
      ],
      "metadata": {
        "id": "7rJmL16o2yna"
      },
      "execution_count": 30,
      "outputs": []
    },
    {
      "cell_type": "code",
      "source": [],
      "metadata": {
        "id": "SHHRarw6-Aes"
      },
      "execution_count": null,
      "outputs": []
    },
    {
      "cell_type": "code",
      "source": [
        "class Transformer(nn.Module):\n",
        "  def __init__(self, num_layers, embed_dim, num_heads, ff_dim):\n",
        "    super().__init()\n",
        "    self.core = []\n",
        "\n",
        "    for i in range(num_layers):\n",
        "      self.core.append(TransformerBlock(embed_dim, num_heads, ff_dim))\n",
        "      \n",
        "    self.final = nn.Linear(embed_dim, ff_dim)\n"
      ],
      "metadata": {
        "id": "Y6ueEKYZ0UNw"
      },
      "execution_count": 14,
      "outputs": []
    }
  ]
}