{
  "nbformat": 4,
  "nbformat_minor": 0,
  "metadata": {
    "colab": {
      "provenance": []
    },
    "kernelspec": {
      "name": "python3",
      "display_name": "Python 3"
    },
    "language_info": {
      "name": "python"
    }
  },
  "cells": [
    {
      "cell_type": "code",
      "execution_count": 1,
      "metadata": {
        "id": "uVtfgqS7EwYy"
      },
      "outputs": [],
      "source": [
        "import numpy as np\n",
        "import torch\n",
        "import torch.nn.functional as F\n",
        "from torch import nn\n",
        "import tqdm\n",
        "import matplotlib "
      ]
    },
    {
      "cell_type": "code",
      "source": [
        "num_stacks = 6\n",
        "d_model = 512"
      ],
      "metadata": {
        "id": "YIShr-qbE2-J"
      },
      "execution_count": null,
      "outputs": []
    },
    {
      "cell_type": "code",
      "source": [
        "class Encoder(nn.Module):\n",
        "  def __init__(self):\n",
        "    super().__init__()\n",
        "    # Sub Layer 1 -> multi-head self-attention\n",
        "\n",
        "    # Residual connection \n",
        "\n",
        "    # Layer Normalization\n",
        "\n",
        "    # Sub Layer 2 -> fully connected feed-forward network\n",
        "\n",
        "    # Residual connection \n",
        "\n",
        "    # Layer Normalization"
      ],
      "metadata": {
        "id": "0eVDSYson1wv"
      },
      "execution_count": null,
      "outputs": []
    },
    {
      "cell_type": "code",
      "source": [
        "class Decoder(nn.Module):\n",
        "  def __init__(self):\n",
        "    super().__init__()\n",
        "\n",
        "    # Sub Layer 1 -> masked multi-head attention over the output of the encoder stack\n",
        "    # masked to ensure only looking at previous known outputs\n",
        "\n",
        "    # Residual connection \n",
        "\n",
        "    # Layer Normalization\n",
        "\n",
        "    # Sub Layer 2 -> multi-head self-attention\n",
        "\n",
        "    # Residual connection \n",
        "\n",
        "    # Layer Normalization\n",
        "\n",
        "    # Sub Layer 3 -> fully connected feed-forward network\n",
        "\n",
        "    # Residual connection \n",
        "\n",
        "    # Layer Normalization"
      ],
      "metadata": {
        "id": "uFPRFQldow6-"
      },
      "execution_count": null,
      "outputs": []
    },
    {
      "cell_type": "markdown",
      "source": [
        "### Attention\n",
        "\n",
        "def attention(query, key, val, model_dim) -> output\n",
        "\n",
        "- Query, keys, values, and output are all vectors.\n",
        "\n",
        "Output\n",
        "- weighted sum of the values\n",
        "- weight assened to each value = compatibility_fn(query, corresponding_key)\n",
        "\n"
      ],
      "metadata": {
        "id": "LLYjpNAapkMu"
      }
    },
    {
      "cell_type": "code",
      "source": [
        "h = 8\n",
        "def multi_head_attention():\n",
        "  pass"
      ],
      "metadata": {
        "id": "G1i98PNOqYoS"
      },
      "execution_count": null,
      "outputs": []
    },
    {
      "cell_type": "code",
      "source": [
        "class TransformerBlock(nn.Module):\n",
        "  def __init__(self, N=6, h=8, d_model=512, d_ff=2048, p_drop=0.1, eps_ls=0.1):\n",
        "    \"\"\"\n",
        "    N = number of layers\n",
        "    h = number of parallel attention layers (heads)\n",
        "    d_k = dimension of embeddings\n",
        "    d_ff = dimension of feed forwards\n",
        "    p_drop = percentage of dropout\n",
        "    eps_ls = label smoothing value (improves accuracy but hurts perplexity)\n",
        "    \"\"\"\n",
        "    super().__init__()\n",
        "    self.num_heads = h\n",
        "    self.d_model = d_model\n",
        "    self.d_k = d_model // self.num_heads\n",
        "    \n",
        "    self.dropout_num = p_drop\n",
        "    self.ff_1 = nn.Linear(d_model, d_ff)\n",
        "    self.ff_2 = nn.Linear(d_model, d_ff)\n",
        "\n",
        "    \n",
        "\n",
        "    self.dropout = nn.Dropout(p_drop)\n",
        "    self.out = nn.Linear(d_model, d_model)\n",
        "\n",
        "  def attention(self, embed_dim):\n",
        "\n",
        "    # x = q @ v\n",
        "    # x = scale\n",
        "    # x = optional mask\n",
        "    # x = softmax(x)\n",
        "    # return x @ v\n",
        "    # each q,k,v is a linear neural network\n",
        "    # <q,k> tells us how much we want to attend to certain features\n",
        "    # v tells us what to attend to \n",
        "    # like database in which we use a query that helps us find a key which has a corresponding value\n",
        "    # We just want to learn a way to make sure our queries grab the appropriate key.\n",
        "\n",
        "    self.query = nn.Linear(self.d_model, self.d_model)\n",
        "    self.key = nn.Linear(self.d_model, self.d_model)\n",
        "    self.value = nn.Linear(self.d_model, self.d_model)\n",
        "\n",
        "    inner = query @ key.T\n",
        "    inner /= np.sqrt(self.dim_size) # large d_k tends to very small gradients, this helps counteract that\n",
        "    weights = torch.nn.Softmax(inner) # turns into a probability distribution\n",
        "                                      # If our attention score is 0 then we don’t pay attention to those parts\n",
        "    attention = torch.dot(weights,value)\n",
        "\n",
        "    return attention\n",
        "\n",
        "  def forward(self, x):\n",
        "    x = x + self.attn(x).dropout(0.1)\n",
        "    x = x.layernorm().linear(*self.ln1)\n",
        "    x = x + self.act(x.linear(*self.ff1)).linear(*self.ff2).dropout(0.1)\n",
        "    x = x.layernorm().linear(*self.ln2)\n",
        "\n",
        "    return x"
      ],
      "metadata": {
        "id": "mHYIycEgqcT7"
      },
      "execution_count": null,
      "outputs": []
    },
    {
      "cell_type": "code",
      "source": [
        "class Attention(nn.Module):\n",
        "   def __init__(self, heads, d_model, dropout = 0.1):\n",
        "        super().__init__()\n",
        "\n",
        "        # x = q @ v\n",
        "        # x = scale\n",
        "        # x = optional mask\n",
        "        # x = softmax(x)\n",
        "        # return x @ v\n",
        "        # each q,k,v is a linear neural network\n",
        "        # <q,k> tells us how much we want to attend to certain features\n",
        "        # v tells us what to attend to \n",
        "        # like database in which we use a query that helps us find a key which has a corresponding value\n",
        "        # We just want to learn a way to make sure our queries grab the appropriate key.\n",
        "\n",
        "        self.query = nn.Linear(self.d_model, self.d_model)\n",
        "        self.key = nn.Linear(self.d_model, self.d_model)\n",
        "        self.value = nn.Linear(self.d_model, self.d_model)\n",
        "\n",
        "        inner = query @ key.T\n",
        "        inner /= np.sqrt(self.dim_size) # large d_k tends to very small gradients, this helps counteract that\n",
        "        weights = torch.nn.Softmax(inner) # turns into a probability distribution\n",
        "                                          # If our attention score is 0 then we don’t pay attention to those parts\n",
        "        attention = torch.dot(weights,value)\n",
        "\n",
        "        return attention"
      ],
      "metadata": {
        "id": "s2PmCVDE9ljo"
      },
      "execution_count": null,
      "outputs": []
    },
    {
      "cell_type": "code",
      "source": [
        "class FeedForward(nn.Module):\n",
        "    def __init__(self, d_model, d_ff=2048, dropout = 0.1):\n",
        "        super().__init__() \n",
        "        # We set d_ff as a default to 2048\n",
        "        self.linear_1 = nn.Linear(d_model, d_ff)\n",
        "        self.dropout = nn.Dropout(dropout)\n",
        "        self.linear_2 = nn.Linear(d_ff, d_model)\n",
        "    def forward(self, x):\n",
        "        x = self.dropout(F.relu(self.linear_1(x)))\n",
        "        x = self.linear_2(x)\n",
        "        return x"
      ],
      "metadata": {
        "id": "_p1JVcT69v_c"
      },
      "execution_count": null,
      "outputs": []
    },
    {
      "cell_type": "code",
      "source": [
        "class Embedder(nn.Module):\n",
        "    def __init__(self, vocab_size, d_model):\n",
        "        super().__init__()\n",
        "        self.embed = nn.Embedding(vocab_size, d_model)\n",
        "    def forward(self, x):\n",
        "        return self.embed(x)"
      ],
      "metadata": {
        "id": "7rJmL16o2yna"
      },
      "execution_count": null,
      "outputs": []
    },
    {
      "cell_type": "code",
      "source": [],
      "metadata": {
        "id": "SHHRarw6-Aes"
      },
      "execution_count": null,
      "outputs": []
    },
    {
      "cell_type": "code",
      "source": [
        "class Transformer(nn.Module):\n",
        "  def __init__(self, num_layers, embed_dim, num_heads, ff_dim):\n",
        "    super().__init()\n",
        "    self.core = []\n",
        "\n",
        "    for i in range(num_layers):\n",
        "      self.core.append(TransformerBlock(embed_dim, num_heads, ff_dim))\n",
        "      \n",
        "    self.final = nn.Linear(embed_dim, ff_dim)\n"
      ],
      "metadata": {
        "id": "Y6ueEKYZ0UNw"
      },
      "execution_count": null,
      "outputs": []
    },
    {
      "cell_type": "markdown",
      "source": [
        "### New Version"
      ],
      "metadata": {
        "id": "z_9Fal852ENZ"
      }
    },
    {
      "cell_type": "code",
      "source": [
        "import numpy as np\n",
        "import torch\n",
        "import torch.nn.functional as F\n",
        "from torch import nn\n",
        "import math\n",
        "import matplotlib \n",
        "import tqdm\n",
        "import copy"
      ],
      "metadata": {
        "id": "fAmGi1dM2FLS"
      },
      "execution_count": 21,
      "outputs": []
    },
    {
      "cell_type": "code",
      "source": [
        "# Multi Head Attention\n",
        "class MultiHeadAttention(nn.Module):\n",
        "  def __init__(self, num_heads, d_model, dropout = 0.1):\n",
        "    super().__init__()\n",
        "\n",
        "    self.d_model = d_model\n",
        "    self.d_k = d_model // num_heads\n",
        "    self.h = num_heads\n",
        "\n",
        "    self.q_ff = nn.Linear(d_model, d_model)\n",
        "    self.k_ff = nn.Linear(d_model, d_model)\n",
        "    self.v_ff = nn.Linear(d_model, d_model)\n",
        "    \n",
        "    self.dropout = nn.Dropout(dropout)\n",
        "    self.out = nn.Linear(d_model, d_model)\n",
        "\n",
        "\n",
        "  def attention(q, k, v, d_k, mask=None, dropout=None):\n",
        "    scores = torch.matmuls(q, k.transpose(-2,-1)) / math.sqrt(d_k)\n",
        "    scores = F.softmax(scores, dim=-1)\n",
        "    # add mask\n",
        "    # add dropout\n",
        "    \n",
        "    output = torch.matmul(scores, v)\n",
        "    return output\n",
        "\n",
        "  def forward(self, q, k, v, mask=None):\n",
        "    \n",
        "    batch_size = q.size(0)\n",
        "\n",
        "    # the size -1 is inferred from other dimensions\n",
        "    k = self.k_ff(k).view(batch_size, -1, self.h, self.d_k)\n",
        "    q = self.q_ff(q).view(batch_size, -1, self.h, self.d_k)\n",
        "    v = self.v_ff(v).view(batch_size, -1, self.h, self.d_k)\n",
        "\n",
        "    k = k.transpose(1,2)\n",
        "    q = q.transpose(1,2)\n",
        "    v = v.transpose(1,2)\n",
        "\n",
        "    scores = self.attention(q, k, v, self.d_k, mask, self.dropout)\n",
        "\n",
        "    concat = scores.transpose(1,2).contiguous.view(batch_size, -1, self.d_model)\n",
        "\n",
        "    output = self.out(concat)\n",
        "    return output"
      ],
      "metadata": {
        "id": "3pXiiIaAya6I"
      },
      "execution_count": null,
      "outputs": []
    },
    {
      "cell_type": "code",
      "source": [
        "class FeedForward(nn.Module):\n",
        "    def __init__(self, d_model, d_ff=2048, dropout = 0.1):\n",
        "        super().__init__() \n",
        "        # We set d_ff as a default to 2048\n",
        "        self.linear_1 = nn.Linear(d_model, d_ff)\n",
        "        self.dropout = nn.Dropout(dropout)\n",
        "        self.linear_2 = nn.Linear(d_ff, d_model)\n",
        "    def forward(self, x):\n",
        "        x = self.dropout(F.relu(self.linear_1(x)))\n",
        "        x = self.linear_2(x)\n",
        "        return x"
      ],
      "metadata": {
        "id": "NIW15JZ13_LV"
      },
      "execution_count": null,
      "outputs": []
    },
    {
      "cell_type": "code",
      "source": [
        "# Embeddings\n",
        "class Embeddings(nn.Module):\n",
        "  def __init__(self, vocab_size, d_model):\n",
        "    super().__init__()\n",
        "    self.embeds = nn.Embedding(vocab_size, d_model)\n",
        "\n",
        "  def forward(self, x):\n",
        "    return self.embed(x)"
      ],
      "metadata": {
        "id": "pFg3Kh-2ymiK"
      },
      "execution_count": 2,
      "outputs": []
    },
    {
      "cell_type": "code",
      "source": [
        "# Positional Encoding\n",
        "class PositionalEncoding(nn.Module):\n",
        "    def __init__(self, d_model: int, dropout: float = 0.1, max_len: int = 5000):\n",
        "      super().__init__()\n",
        "      self.dropout = nn.Dropout(p=dropout)\n",
        "\n",
        "      position = torch.arange(max_len).unsqueeze(1)\n",
        "      div_term = torch.exp(torch.arange(0, d_model, 2) * (-math.log(10000.0) / d_model))\n",
        "      pe = torch.zeros(max_len, 1, d_model)\n",
        "      pe[:, 0, 0::2] = torch.sin(position * div_term)\n",
        "      pe[:, 0, 1::2] = torch.cos(position * div_term)\n",
        "      self.register_buffer('pe', pe)\n",
        "\n",
        "    def forward(self, x):\n",
        "      x = x + self.pe[:x.size(0)]\n",
        "      return self.dropout(x)"
      ],
      "metadata": {
        "id": "54pnt00hytj1"
      },
      "execution_count": 25,
      "outputs": []
    },
    {
      "cell_type": "code",
      "source": [
        "from torch.nn.modules.dropout import Dropout\n",
        "# Encoder\n",
        "class EncoderLayer(nn.Module):\n",
        "  def __init__(self, d_model, heads, dropout = 0.1):\n",
        "    super().__init__()\n",
        "    self.norm_1 = nn.LayerNorm(d_model)\n",
        "    self.norm_2 = nn.LayerNorm(d_model)\n",
        "    self.attn = MultiHeadAttention(heads, d_model)\n",
        "    self.ff = FeedForward(d_model)\n",
        "    self.dropout_1 = nn.Drouput(Dropout)\n",
        "    self.dropout_2 = nn.Drouput(Dropout)\n",
        "\n",
        "  def forward(self, x, mask):\n",
        "    x2 = self.norm_1(x)\n",
        "    x = x + self.dropout_1(self.attn(x2,x2,x2,mask))\n",
        "    x2 = self.norm_2(x)\n",
        "    x = x + self.dropout_2(self.ff(x2))\n",
        "    return x\n"
      ],
      "metadata": {
        "id": "lwFkyNeayZ4X"
      },
      "execution_count": null,
      "outputs": []
    },
    {
      "cell_type": "code",
      "source": [
        "# Decoder\n",
        "class DecoderLayer(nn.Module):\n",
        "  def __init__(self, d_model, heads, dropout=0.1):\n",
        "    super().__init__()\n",
        "    self.norm_1 = nn.LayerNorm(d_model)\n",
        "    self.norm_2 = nn.LayerNorm(d_model)\n",
        "    self.norm_3 = nn.LayerNorm(d_model)\n",
        "\n",
        "    self.dropout_1 = nn.Dropout(dropout)\n",
        "    self.dropout_2 = nn.Dropout(dropout)\n",
        "    self.dropout_3 = nn.Dropout(dropout)\n",
        "\n",
        "    self.attn_1 = MultiHeadAttention(heads, d_model)\n",
        "    self.attn_2 = MultiHeadAttention(heads, d_model)\n",
        "    self.ff = FeedForward(d_model)\n",
        "\n",
        "\n",
        "  def forward(self, x, e_outputs, src_mask, trg_mask):\n",
        "    x2 = self.norm_1(x)\n",
        "    x = x + self.dropout_1(self.attn_1(x2, x2, x2, trg_mask))\n",
        "    x2 = self.norm_2(x)\n",
        "    x = x + self.dropout_2(self.attn_2(x2, e_outputs, e_outputs,\n",
        "    src_mask))\n",
        "    x2 = self.norm_3(x)\n",
        "    x = x + self.dropout_3(self.ff(x2))\n",
        "    return x\n",
        "\n",
        "# We can then build a convenient cloning function that can generate multiple layers:\n",
        "def get_clones(module, N):\n",
        "  return nn.ModuleList([copy.deepcopy(module) for i in range(N)])\n",
        "    "
      ],
      "metadata": {
        "id": "rFX93twGyaHq"
      },
      "execution_count": 22,
      "outputs": []
    },
    {
      "cell_type": "code",
      "source": [
        "class Encoder(nn.Module):\n",
        "  def __init__(self, vocab_size, d_model, N, heads):\n",
        "    super().__init__()\n",
        "    self.N = N\n",
        "    self.embed = Embeddings(vocab_size)\n",
        "    self.pe = PositionalEncoder(d_model)\n",
        "    self.layers = get_clones(EncoderLayer(d_model, heads), N)\n",
        "    self.norm = nn.LayerNorm(d_model)\n",
        "\n",
        "  def forward(self, src, mask):\n",
        "        x = self.embed(src)\n",
        "        x = self.pe(x)\n",
        "        for i in range(self.N):\n",
        "            x = self.layers[i](x, mask)\n",
        "        return self.norm(x)"
      ],
      "metadata": {
        "id": "xeliDoJA5nfF"
      },
      "execution_count": null,
      "outputs": []
    },
    {
      "cell_type": "code",
      "source": [
        "class Decoder(nn.Module):\n",
        "    def __init__(self, vocab_size, d_model, N, heads):\n",
        "        super().__init__()\n",
        "        self.N = N\n",
        "        self.embed = Embedder(vocab_size, d_model)\n",
        "        self.pe = PositionalEncoder(d_model)\n",
        "        self.layers = get_clones(DecoderLayer(d_model, heads), N)\n",
        "        self.norm = nn.LayerNorm(d_model)\n",
        "    def forward(self, trg, e_outputs, src_mask, trg_mask):\n",
        "        x = self.embed(trg)\n",
        "        x = self.pe(x)\n",
        "        for i in range(self.N):\n",
        "            x = self.layers[i](x, e_outputs, src_mask, trg_mask)\n",
        "        return self.norm(x)"
      ],
      "metadata": {
        "id": "W5UkP5vA5nNt"
      },
      "execution_count": null,
      "outputs": []
    },
    {
      "cell_type": "code",
      "source": [
        "# Transformer\n",
        "# p_drop = 0.1\n",
        "class Transformer(nn.Module):\n",
        "    def __init__(self, src_vocab, trg_vocab, d_model, N, heads):\n",
        "      super().__init__()\n",
        "      self.encoder = Encoder(src_vocab, d_model, N, heads)\n",
        "      self.decoder = Decoder(trg_vocab, d_model, N, heads)\n",
        "      self.out = nn.Linear(d_model, trg_vocab)\n",
        "    def forward(self, src, trg, src_mask, trg_mask):\n",
        "      e_outputs = self.encoder(src, src_mask)\n",
        "      d_output = self.decoder(trg, e_outputs, src_mask, trg_mask)\n",
        "      output = self.out(d_output)\n",
        "      return output"
      ],
      "metadata": {
        "id": "zK0jSRxvy6Mf"
      },
      "execution_count": null,
      "outputs": []
    },
    {
      "cell_type": "markdown",
      "source": [
        "### Training code"
      ],
      "metadata": {
        "id": "L-rGo9ec6f57"
      }
    },
    {
      "cell_type": "code",
      "source": [
        "d_model = 512\n",
        "heads = 8\n",
        "N = 6\n",
        "src_vocab = len(EN_TEXT.vocab)\n",
        "trg_vocab = len(FR_TEXT.vocab)\n",
        "\n",
        "model = Transformer(src_vocab, trg_vocab, d_model, N, heads)"
      ],
      "metadata": {
        "id": "2XCREFTm6bhV"
      },
      "execution_count": null,
      "outputs": []
    },
    {
      "cell_type": "code",
      "source": [
        "# Optimizer\n",
        "# Adam\n",
        "# b1 = 0.9\n",
        "# b2 - 0.98\n",
        "# eps = 10**-9\n",
        "optim = torch.optim.Adam(model.parameters(), lr=0.0001, betas=(0.9, 0.98), eps=1e-9)"
      ],
      "metadata": {
        "id": "Ph1wooLLyu5x"
      },
      "execution_count": null,
      "outputs": []
    },
    {
      "cell_type": "code",
      "source": [
        "x = torch.Tensor(4,4)\n",
        "x"
      ],
      "metadata": {
        "colab": {
          "base_uri": "https://localhost:8080/"
        },
        "id": "HZnz8ImfyvH1",
        "outputId": "b51a6197-ade8-4e1b-e6cb-dd0d2293958a"
      },
      "execution_count": 10,
      "outputs": [
        {
          "output_type": "execute_result",
          "data": {
            "text/plain": [
              "tensor([[1.0816e-33, 0.0000e+00, 2.3694e-38, 2.3694e-38],\n",
              "        [4.3066e+21, 1.1824e+22, 4.3066e+21, 6.3828e+28],\n",
              "        [3.8016e-39, 1.4994e-43, 1.8523e+28, 4.5581e-41],\n",
              "        [3.0210e-13, 4.5581e-41, 2.6955e-03, 4.7210e-24]])"
            ]
          },
          "metadata": {},
          "execution_count": 10
        }
      ]
    },
    {
      "cell_type": "code",
      "source": [
        "x = torch.transpose(x, 0, 1)\n",
        "x"
      ],
      "metadata": {
        "colab": {
          "base_uri": "https://localhost:8080/"
        },
        "id": "TJJEFrqF2Kxx",
        "outputId": "839f13ea-fbdf-492b-8812-4628472a4fd2"
      },
      "execution_count": 18,
      "outputs": [
        {
          "output_type": "execute_result",
          "data": {
            "text/plain": [
              "tensor([[1.0816e-33, 4.3066e+21, 3.8016e-39, 3.0210e-13],\n",
              "        [0.0000e+00, 1.1824e+22, 1.4994e-43, 4.5581e-41],\n",
              "        [2.3694e-38, 4.3066e+21, 1.8523e+28, 2.6955e-03],\n",
              "        [2.3694e-38, 6.3828e+28, 4.5581e-41, 4.7210e-24]])"
            ]
          },
          "metadata": {},
          "execution_count": 18
        }
      ]
    },
    {
      "cell_type": "code",
      "source": [],
      "metadata": {
        "id": "VzT_U_qV2bko"
      },
      "execution_count": null,
      "outputs": []
    }
  ]
}